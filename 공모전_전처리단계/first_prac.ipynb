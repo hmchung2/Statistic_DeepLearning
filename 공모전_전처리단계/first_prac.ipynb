{
 "cells": [
  {
   "cell_type": "code",
   "execution_count": 7,
   "metadata": {},
   "outputs": [],
   "source": [
    "from bs4 import BeautifulSoup"
   ]
  },
  {
   "cell_type": "code",
   "execution_count": 8,
   "metadata": {},
   "outputs": [],
   "source": [
    "import requests"
   ]
  },
  {
   "cell_type": "code",
   "execution_count": 19,
   "metadata": {},
   "outputs": [],
   "source": [
    "response = requests.get('https://pythondojang.bitbucket.io/weather/observation//currentweather.html')\n",
    "#response = requests.get('http://www.weather.go.kr/weather/observation/currentweather.jsp')\n",
    "soup = BeautifulSoup(response.content,'html.parser')"
   ]
  },
  {
   "cell_type": "code",
   "execution_count": 20,
   "metadata": {},
   "outputs": [],
   "source": [
    "table = soup.find('table', {'class':'table_develop3'})\n",
    "data= []\n"
   ]
  },
  {
   "cell_type": "code",
   "execution_count": 21,
   "metadata": {},
   "outputs": [],
   "source": [
    "for tr in table.find_all('tr'):\n",
    "    tds = tr.find_all('td')\n",
    "    for td in tds:\n",
    "        if td.find('a'):\n",
    "            point = td.find('a').text\n",
    "            temperature = tds[5].text\n",
    "            humidity = tds[9].text\n",
    "            data.append([point,temperature,humidity])"
   ]
  },
  {
   "cell_type": "code",
   "execution_count": 22,
   "metadata": {},
   "outputs": [
    {
     "data": {
      "text/plain": [
       "[['서울', '25.6', '30'],\n",
       " ['백령도', '18.4', '62'],\n",
       " ['인천', '20.8', '54'],\n",
       " ['수원', '25.0', '41'],\n",
       " ['동두천', '24.9', '34'],\n",
       " ['파주', '25.1', '39'],\n",
       " ['강화', '20.0', '56'],\n",
       " ['양평', '25.5', '32'],\n",
       " ['이천', '25.6', '28'],\n",
       " ['북춘천', '24.6', '36'],\n",
       " ['북강릉', '19.9', '56'],\n",
       " ['울릉도', '16.8', '77'],\n",
       " ['속초', '19.1', '75'],\n",
       " ['철원', '23.9', '37'],\n",
       " ['대관령', '17.9', '49'],\n",
       " ['춘천', '25.7', '39'],\n",
       " ['강릉', '22.7', '41'],\n",
       " ['동해', '19.5', '77'],\n",
       " ['원주', '23.4', '36'],\n",
       " ['영월', '24.2', '34'],\n",
       " ['인제', '24.3', '31'],\n",
       " ['홍천', '25.4', '25'],\n",
       " ['태백', '19.6', '43'],\n",
       " ['정선군', '23.0', '32'],\n",
       " ['서산', '23.6', '49'],\n",
       " ['청주', '24.3', '33'],\n",
       " ['대전', '25.1', '37'],\n",
       " ['충주', '24.4', '32'],\n",
       " ['추풍령', '23.0', '35'],\n",
       " ['홍성(예)', '24.3', '46'],\n",
       " ['제천', '24.2', '32'],\n",
       " ['보은', '23.7', '28'],\n",
       " ['천안', '23.5', '35'],\n",
       " ['보령', '21.4', '56'],\n",
       " ['부여', '23.9', '37'],\n",
       " ['금산', '23.7', '30'],\n",
       " ['전주', '24.9', '44'],\n",
       " ['광주', '24.0', '35'],\n",
       " ['목포', '22.8', '51'],\n",
       " ['여수', '22.8', '49'],\n",
       " ['흑산도', '19.2', '93'],\n",
       " ['군산', '21.8', '55'],\n",
       " ['완도', '23.2', '45'],\n",
       " ['고창', '22.7', '53'],\n",
       " ['순천', '22.5', '40'],\n",
       " ['진도(첨찰산)', '22.2', '48'],\n",
       " ['부안', '22.9', '44'],\n",
       " ['임실', '22.8', '40'],\n",
       " ['정읍', '23.8', '47'],\n",
       " ['남원', '23.8', '35'],\n",
       " ['장수', '22.0', '33'],\n",
       " ['고창군', '23.7', '48'],\n",
       " ['영광군', '22.4', '40'],\n",
       " ['순창군', '23.5', '38'],\n",
       " ['보성군', '23.7', '34'],\n",
       " ['강진군', '24.1', '33'],\n",
       " ['장흥', '25.5', '33'],\n",
       " ['해남', '24.6', '40'],\n",
       " ['고흥', '24.4', '34'],\n",
       " ['광양시', '24.6', '43'],\n",
       " ['진도군', '21.9', '58'],\n",
       " ['제주', '20.7', '60'],\n",
       " ['고산', '19.1', '74'],\n",
       " ['성산', '23.1', '33'],\n",
       " ['서귀포', '24.0', '43'],\n",
       " ['안동', '25.0', '32'],\n",
       " ['포항', '19.0', '83'],\n",
       " ['대구', '25.7', '31'],\n",
       " ['울산', '19.7', '70'],\n",
       " ['창원', '20.6', '63'],\n",
       " ['부산', '20.2', '66'],\n",
       " ['울진', '17.6', '84'],\n",
       " ['상주', '25.0', '32'],\n",
       " ['통영', '20.0', '71'],\n",
       " ['진주', '23.8', '30'],\n",
       " ['김해시', '21.9', '60'],\n",
       " ['북창원', '22.8', '50'],\n",
       " ['양산시', '21.4', '63'],\n",
       " ['의령군', '25.1', '40'],\n",
       " ['함양군', '23.3', '38'],\n",
       " ['봉화', '22.0', '38'],\n",
       " ['영주', '23.0', '36'],\n",
       " ['문경', '25.5', '26'],\n",
       " ['청송군', '17.9', '71'],\n",
       " ['영덕', '19.4', '57'],\n",
       " ['의성', '25.7', '25'],\n",
       " ['구미', '25.7', '32'],\n",
       " ['영천', '21.8', '47'],\n",
       " ['경주시', '23.8', '49'],\n",
       " ['거창', '22.7', '38'],\n",
       " ['합천', '25.1', '32'],\n",
       " ['밀양', '24.7', '34'],\n",
       " ['산청', '24.8', '41'],\n",
       " ['거제', '23.1', '57'],\n",
       " ['남해', '24.5', '40']]"
      ]
     },
     "execution_count": 22,
     "metadata": {},
     "output_type": "execute_result"
    }
   ],
   "source": [
    "data"
   ]
  },
  {
   "cell_type": "code",
   "execution_count": 23,
   "metadata": {},
   "outputs": [],
   "source": [
    "with open('weather.csv','w') as file:\n",
    "    file.write('point,temerature,humidity\\n')\n",
    "    for i in data:\n",
    "        file.write('{0},{1},{2}\\n'.format(i[0],i[1],i[2]))\n",
    "\n",
    "\n"
   ]
  },
  {
   "cell_type": "code",
   "execution_count": 24,
   "metadata": {},
   "outputs": [
    {
     "data": {
      "text/plain": [
       "['백령도', '18.4', '62']"
      ]
     },
     "execution_count": 24,
     "metadata": {},
     "output_type": "execute_result"
    }
   ],
   "source": [
    "data[1]"
   ]
  },
  {
   "cell_type": "code",
   "execution_count": 25,
   "metadata": {},
   "outputs": [
    {
     "data": {
      "text/plain": [
       "'18.4'"
      ]
     },
     "execution_count": 25,
     "metadata": {},
     "output_type": "execute_result"
    }
   ],
   "source": [
    "data[1][1]"
   ]
  },
  {
   "cell_type": "code",
   "execution_count": 26,
   "metadata": {},
   "outputs": [
    {
     "data": {
      "text/plain": [
       "'서울'"
      ]
     },
     "execution_count": 26,
     "metadata": {},
     "output_type": "execute_result"
    }
   ],
   "source": [
    "data[0][0]"
   ]
  },
  {
   "cell_type": "code",
   "execution_count": 30,
   "metadata": {},
   "outputs": [],
   "source": [
    "import pandas as pd\n",
    "datadf = pd.DataFrame(data)"
   ]
  },
  {
   "cell_type": "code",
   "execution_count": 31,
   "metadata": {},
   "outputs": [
    {
     "data": {
      "text/plain": [
       "'18.4'"
      ]
     },
     "execution_count": 31,
     "metadata": {},
     "output_type": "execute_result"
    }
   ],
   "source": [
    "datadf.iloc[1,1]"
   ]
  },
  {
   "cell_type": "code",
   "execution_count": null,
   "metadata": {},
   "outputs": [],
   "source": []
  }
 ],
 "metadata": {
  "kernelspec": {
   "display_name": "Python 3",
   "language": "python",
   "name": "python3"
  },
  "language_info": {
   "codemirror_mode": {
    "name": "ipython",
    "version": 3
   },
   "file_extension": ".py",
   "mimetype": "text/x-python",
   "name": "python",
   "nbconvert_exporter": "python",
   "pygments_lexer": "ipython3",
   "version": "3.7.4"
  }
 },
 "nbformat": 4,
 "nbformat_minor": 2
}
