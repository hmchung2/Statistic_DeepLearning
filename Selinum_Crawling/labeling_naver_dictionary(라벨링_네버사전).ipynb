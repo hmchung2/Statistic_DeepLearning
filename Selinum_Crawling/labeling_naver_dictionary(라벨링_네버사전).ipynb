{
 "cells": [
  {
   "cell_type": "code",
   "execution_count": 3,
   "metadata": {},
   "outputs": [],
   "source": [
    "# 이번에는 네이버 사전에서 유의어 찾는 방법을 핡거다\n",
    "# 자연어 딥러닝 라벨링에 유용하게 사용이 될 수 있다.\n",
    "# 연관이 많이 되어 있는 자연어를 학습을 시키지 못하면 정확도를 현저히 떨어 질 수 있다.\n",
    "#먼저 Selenium 을 아나콘다 쉘에 pip install selenium 으로 설치\n",
    "#마찬가지로 판다스도 다운로드 한다.\n",
    "\n",
    "from selenium import webdriver as wd\n",
    "import time"
   ]
  },
  {
   "cell_type": "code",
   "execution_count": 4,
   "metadata": {},
   "outputs": [],
   "source": [
    "import pandas as pd"
   ]
  },
  {
   "cell_type": "code",
   "execution_count": 25,
   "metadata": {},
   "outputs": [],
   "source": [
    "from string import digits       ##############   스트링 패키지에서 디지트 함수를 갖고 온다"
   ]
  },
  {
   "cell_type": "code",
   "execution_count": 38,
   "metadata": {},
   "outputs": [],
   "source": [
    "df = pd.read_excel(\"data.xlsx\")     ########## 내가 현재 다니고 있는 회사에서 자연어 처리 라벨링 단어들이다"
   ]
  },
  {
   "cell_type": "code",
   "execution_count": 39,
   "metadata": {},
   "outputs": [],
   "source": [
    "df2 = df.loc[df.loc[:,'word'].isna(),:]             ################## 현재 유의어가 없는 단어들만 따로 전처리를 한다"
   ]
  },
  {
   "cell_type": "code",
   "execution_count": 40,
   "metadata": {},
   "outputs": [],
   "source": [
    "url = 'https://ko.dict.naver.com'  # 네이버 사전"
   ]
  },
  {
   "cell_type": "code",
   "execution_count": 41,
   "metadata": {},
   "outputs": [],
   "source": [
    "driver = wd.Chrome(executable_path='chromedriver.exe')    ############3 구글 드라이브를 다온로드 받아야 한다.\n",
    "##############################################################주의할점은 구글 크롬이랑 맞는 버전이랑 다운을 하고 같은 경로에 저장한다."
   ]
  },
  {
   "cell_type": "code",
   "execution_count": 42,
   "metadata": {},
   "outputs": [],
   "source": [
    "driver.get(url)"
   ]
  },
  {
   "cell_type": "code",
   "execution_count": 47,
   "metadata": {},
   "outputs": [
    {
     "name": "stderr",
     "output_type": "stream",
     "text": [
      "C:\\Users\\T3Qist\\hmchung_anaconda\\lib\\site-packages\\ipykernel_launcher.py:18: SettingWithCopyWarning: \n",
      "A value is trying to be set on a copy of a slice from a DataFrame\n",
      "\n",
      "See the caveats in the documentation: http://pandas.pydata.org/pandas-docs/stable/user_guide/indexing.html#returning-a-view-versus-a-copy\n"
     ]
    }
   ],
   "source": [
    "for i in df2.index[:]:\n",
    "    word = []\n",
    "    try:\n",
    "        keyword = df2.loc[i,'key']\n",
    "        driver.find_element_by_id(\"ac_input\").send_keys(keyword)\n",
    "        time.sleep(2)\n",
    "        driver.find_element_by_class_name(\"btn_search\").click()\n",
    "        time.sleep(2)\n",
    "        for a in driver.find_elements_by_tag_name('a.item'):     #############유의어 태그\n",
    "            s = a.text\n",
    "            remove_digits = str.maketrans('', '', digits)\n",
    "            res = s.translate(remove_digits)\n",
    "            word.append(res)\n",
    "    except:\n",
    "        driver.get(url)\n",
    "        time.sleep(2)\n",
    "        continue\n",
    "    df2.loc[i,'word'] = word\n",
    "    driver.get(url)\n",
    "    time.sleep(2)\n",
    "        "
   ]
  },
  {
   "cell_type": "code",
   "execution_count": 48,
   "metadata": {},
   "outputs": [
    {
     "data": {
      "text/html": [
       "<div>\n",
       "<style scoped>\n",
       "    .dataframe tbody tr th:only-of-type {\n",
       "        vertical-align: middle;\n",
       "    }\n",
       "\n",
       "    .dataframe tbody tr th {\n",
       "        vertical-align: top;\n",
       "    }\n",
       "\n",
       "    .dataframe thead th {\n",
       "        text-align: right;\n",
       "    }\n",
       "</style>\n",
       "<table border=\"1\" class=\"dataframe\">\n",
       "  <thead>\n",
       "    <tr style=\"text-align: right;\">\n",
       "      <th></th>\n",
       "      <th>key</th>\n",
       "      <th>word</th>\n",
       "    </tr>\n",
       "  </thead>\n",
       "  <tbody>\n",
       "    <tr>\n",
       "      <td>1</td>\n",
       "      <td>인테리어</td>\n",
       "      <td>[]</td>\n",
       "    </tr>\n",
       "    <tr>\n",
       "      <td>2</td>\n",
       "      <td>영업</td>\n",
       "      <td>[사업, 기업, 비즈니스]</td>\n",
       "    </tr>\n",
       "    <tr>\n",
       "      <td>4</td>\n",
       "      <td>상계</td>\n",
       "      <td>[]</td>\n",
       "    </tr>\n",
       "    <tr>\n",
       "      <td>5</td>\n",
       "      <td>주주</td>\n",
       "      <td>[]</td>\n",
       "    </tr>\n",
       "    <tr>\n",
       "      <td>6</td>\n",
       "      <td>설비</td>\n",
       "      <td>[설치, 시설, 장치]</td>\n",
       "    </tr>\n",
       "    <tr>\n",
       "      <td>...</td>\n",
       "      <td>...</td>\n",
       "      <td>...</td>\n",
       "    </tr>\n",
       "    <tr>\n",
       "      <td>188</td>\n",
       "      <td>(영화) 표준근로계약서 대상</td>\n",
       "      <td>[전영, 제팔예술, 필름, 규격, 대중, 식, 노무, 근무, 노고, 휴식]</td>\n",
       "    </tr>\n",
       "    <tr>\n",
       "      <td>189</td>\n",
       "      <td>위탁운영계약서에서의 범위</td>\n",
       "      <td>[폭, 범주, 한도, 부탁, 위임, 신탁, 수탁, 경영, 운용]</td>\n",
       "    </tr>\n",
       "    <tr>\n",
       "      <td>190</td>\n",
       "      <td>위탁관리계약서에서의 범위</td>\n",
       "      <td>[관할, 담당, 유지, 처분, 관료, 벼슬아치, 관헌, 민간인, 폭, 범주, 한도,...</td>\n",
       "    </tr>\n",
       "    <tr>\n",
       "      <td>192</td>\n",
       "      <td>공동경영계약서ㅇㅔ서의 특정 사업체</td>\n",
       "      <td>[기업, 사업, 운영, 합동, 단독, 경영, 기업, 비즈니스, 공공]</td>\n",
       "    </tr>\n",
       "    <tr>\n",
       "      <td>193</td>\n",
       "      <td>업무대행계약서 업무 범위</td>\n",
       "      <td>[사무, 상무, 직무, 폭, 범주, 한도]</td>\n",
       "    </tr>\n",
       "  </tbody>\n",
       "</table>\n",
       "<p>163 rows × 2 columns</p>\n",
       "</div>"
      ],
      "text/plain": [
       "                    key                                               word\n",
       "1                  인테리어                                                 []\n",
       "2                    영업                                     [사업, 기업, 비즈니스]\n",
       "4                    상계                                                 []\n",
       "5                    주주                                                 []\n",
       "6                    설비                                       [설치, 시설, 장치]\n",
       "..                  ...                                                ...\n",
       "188     (영화) 표준근로계약서 대상          [전영, 제팔예술, 필름, 규격, 대중, 식, 노무, 근무, 노고, 휴식]\n",
       "189       위탁운영계약서에서의 범위                [폭, 범주, 한도, 부탁, 위임, 신탁, 수탁, 경영, 운용]\n",
       "190       위탁관리계약서에서의 범위  [관할, 담당, 유지, 처분, 관료, 벼슬아치, 관헌, 민간인, 폭, 범주, 한도,...\n",
       "192  공동경영계약서ㅇㅔ서의 특정 사업체             [기업, 사업, 운영, 합동, 단독, 경영, 기업, 비즈니스, 공공]\n",
       "193       업무대행계약서 업무 범위                            [사무, 상무, 직무, 폭, 범주, 한도]\n",
       "\n",
       "[163 rows x 2 columns]"
      ]
     },
     "execution_count": 48,
     "metadata": {},
     "output_type": "execute_result"
    }
   ],
   "source": [
    "df2"
   ]
  },
  {
   "cell_type": "code",
   "execution_count": 56,
   "metadata": {},
   "outputs": [
    {
     "data": {
      "text/html": [
       "<div>\n",
       "<style scoped>\n",
       "    .dataframe tbody tr th:only-of-type {\n",
       "        vertical-align: middle;\n",
       "    }\n",
       "\n",
       "    .dataframe tbody tr th {\n",
       "        vertical-align: top;\n",
       "    }\n",
       "\n",
       "    .dataframe thead th {\n",
       "        text-align: right;\n",
       "    }\n",
       "</style>\n",
       "<table border=\"1\" class=\"dataframe\">\n",
       "  <thead>\n",
       "    <tr style=\"text-align: right;\">\n",
       "      <th></th>\n",
       "      <th>key</th>\n",
       "      <th>word</th>\n",
       "    </tr>\n",
       "  </thead>\n",
       "  <tbody>\n",
       "    <tr>\n",
       "      <td>1</td>\n",
       "      <td>인테리어</td>\n",
       "      <td>[]</td>\n",
       "    </tr>\n",
       "    <tr>\n",
       "      <td>2</td>\n",
       "      <td>영업</td>\n",
       "      <td>[사업, 기업, 비즈니스]</td>\n",
       "    </tr>\n",
       "    <tr>\n",
       "      <td>4</td>\n",
       "      <td>상계</td>\n",
       "      <td>[]</td>\n",
       "    </tr>\n",
       "    <tr>\n",
       "      <td>5</td>\n",
       "      <td>주주</td>\n",
       "      <td>[]</td>\n",
       "    </tr>\n",
       "    <tr>\n",
       "      <td>6</td>\n",
       "      <td>설비</td>\n",
       "      <td>[설치, 시설, 장치]</td>\n",
       "    </tr>\n",
       "    <tr>\n",
       "      <td>7</td>\n",
       "      <td>휴게소</td>\n",
       "      <td>[연실, 휴게실, 휴식처]</td>\n",
       "    </tr>\n",
       "    <tr>\n",
       "      <td>8</td>\n",
       "      <td>상표권</td>\n",
       "      <td>[]</td>\n",
       "    </tr>\n",
       "    <tr>\n",
       "      <td>9</td>\n",
       "      <td>안전점검</td>\n",
       "      <td>[안보, 완전, 평온, 불안전, 위태, 불안, 점사, 검사, 검열]</td>\n",
       "    </tr>\n",
       "    <tr>\n",
       "      <td>10</td>\n",
       "      <td>특허권</td>\n",
       "      <td>[특허]</td>\n",
       "    </tr>\n",
       "    <tr>\n",
       "      <td>11</td>\n",
       "      <td>가맹</td>\n",
       "      <td>[동맹]</td>\n",
       "    </tr>\n",
       "    <tr>\n",
       "      <td>12</td>\n",
       "      <td>조사</td>\n",
       "      <td>[고사, 관찰, 사찰]</td>\n",
       "    </tr>\n",
       "    <tr>\n",
       "      <td>14</td>\n",
       "      <td>PC방</td>\n",
       "      <td>[]</td>\n",
       "    </tr>\n",
       "    <tr>\n",
       "      <td>15</td>\n",
       "      <td>전속</td>\n",
       "      <td>[이적, 전속력]</td>\n",
       "    </tr>\n",
       "  </tbody>\n",
       "</table>\n",
       "</div>"
      ],
      "text/plain": [
       "     key                                   word\n",
       "1   인테리어                                     []\n",
       "2     영업                         [사업, 기업, 비즈니스]\n",
       "4     상계                                     []\n",
       "5     주주                                     []\n",
       "6     설비                           [설치, 시설, 장치]\n",
       "7    휴게소                         [연실, 휴게실, 휴식처]\n",
       "8    상표권                                     []\n",
       "9   안전점검  [안보, 완전, 평온, 불안전, 위태, 불안, 점사, 검사, 검열]\n",
       "10   특허권                                   [특허]\n",
       "11    가맹                                   [동맹]\n",
       "12    조사                           [고사, 관찰, 사찰]\n",
       "14   PC방                                     []\n",
       "15    전속                              [이적, 전속력]"
      ]
     },
     "execution_count": 56,
     "metadata": {},
     "output_type": "execute_result"
    }
   ],
   "source": [
    "df2.loc[1:15,:]"
   ]
  },
  {
   "cell_type": "code",
   "execution_count": null,
   "metadata": {},
   "outputs": [],
   "source": []
  }
 ],
 "metadata": {
  "kernelspec": {
   "display_name": "Python 3",
   "language": "python",
   "name": "python3"
  },
  "language_info": {
   "codemirror_mode": {
    "name": "ipython",
    "version": 3
   },
   "file_extension": ".py",
   "mimetype": "text/x-python",
   "name": "python",
   "nbconvert_exporter": "python",
   "pygments_lexer": "ipython3",
   "version": "3.7.4"
  }
 },
 "nbformat": 4,
 "nbformat_minor": 2
}
