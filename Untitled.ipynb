{
 "cells": [
  {
   "cell_type": "code",
   "execution_count": 2,
   "metadata": {},
   "outputs": [],
   "source": [
    "# Selelnium 패키지를 활용해서 네이버 연관 검색어 크롤링하는 방식\n",
    "# 자연어 딥러닝 라벨링에 유용하게 사용이 될 수 있다.\n",
    "# 연관이 많이 되어 있는 자연어를 학습을 시키지 못하면 정확도를 현저히 떨어 질 수 있다.\n",
    "#먼저 Selenium 을 아나콘다 쉘에 pip install selenium 으로 설치\n",
    "#마찬가지로 판다스도 다운로드 한다.\n",
    "\n",
    "from selenium import webdriver as wd\n",
    "import time"
   ]
  },
  {
   "cell_type": "code",
   "execution_count": 3,
   "metadata": {},
   "outputs": [],
   "source": [
    "import pandas as pd"
   ]
  },
  {
   "cell_type": "code",
   "execution_count": 32,
   "metadata": {},
   "outputs": [],
   "source": [
    "df = pd.read_excel(\"data.xlsx\")"
   ]
  },
  {
   "cell_type": "code",
   "execution_count": 19,
   "metadata": {},
   "outputs": [],
   "source": [
    "df2 = df.loc[df.loc[:,'word'].isna(),:]"
   ]
  },
  {
   "cell_type": "code",
   "execution_count": 15,
   "metadata": {},
   "outputs": [],
   "source": [
    "url = 'https://naver.com'"
   ]
  },
  {
   "cell_type": "code",
   "execution_count": 16,
   "metadata": {},
   "outputs": [],
   "source": [
    "driver = wd.Chrome(executable_path='chromedriver.exe') # 자기 크롬 버전과 맞는 크롬 드라이버를 같은 경로에 다운로드 시킨다 \n",
    "# 크롬 드라이버는 https://chromedriver.storage.googleapis.com/index.html?path=78.0.3904.105/ 여기서 다운로드 가능하다."
   ]
  },
  {
   "cell_type": "code",
   "execution_count": 17,
   "metadata": {},
   "outputs": [],
   "source": [
    "driver.get(url)"
   ]
  },
  {
   "cell_type": "code",
   "execution_count": 18,
   "metadata": {},
   "outputs": [],
   "source": [
    "url = 'https://www.naver.com' #우리는 네이버 연관검색어로 모든 연관 단어들을 다 긁어 모을 생각이다."
   ]
  },
  {
   "cell_type": "code",
   "execution_count": 20,
   "metadata": {
    "scrolled": true
   },
   "outputs": [
    {
     "name": "stderr",
     "output_type": "stream",
     "text": [
      "C:\\Users\\T3Qist\\hmchung_anaconda\\lib\\site-packages\\ipykernel_launcher.py:18: SettingWithCopyWarning: \n",
      "A value is trying to be set on a copy of a slice from a DataFrame\n",
      "\n",
      "See the caveats in the documentation: http://pandas.pydata.org/pandas-docs/stable/user_guide/indexing.html#returning-a-view-versus-a-copy\n"
     ]
    }
   ],
   "source": [
    "for i in df2.index[:]:\n",
    "    try:\n",
    "        keyword = df2.loc[i,'key']\n",
    "        driver.find_element_by_id(\"query\").send_keys(keyword)\n",
    "        time.sleep(2)\n",
    "        driver.find_element_by_class_name(\"ico_search_submit\").click()\n",
    "        time.sleep(2)\n",
    "\n",
    "        a= driver.find_element_by_xpath('//*[@class=\"lst_relate _related_keyword_list\"]/ul')\n",
    "        number = len(a.find_elements_by_tag_name('li'))\n",
    "        b = []\n",
    "    except:\n",
    "        driver.find_element_by_xpath('//a[@href=\"'+url+'\"]').click()\n",
    "        time.sleep(2)\n",
    "        continue\n",
    "    for brand in range(0,number):\n",
    "        b.append(a.find_elements_by_tag_name('li')[brand].text)\n",
    "    df2.loc[i,'word'] = b\n",
    "    driver.find_element_by_xpath('//a[@href=\"'+url+'\"]').click()\n",
    "    time.sleep(2)"
   ]
  },
  {
   "cell_type": "code",
   "execution_count": 31,
   "metadata": {},
   "outputs": [
    {
     "data": {
      "text/html": [
       "<div>\n",
       "<style scoped>\n",
       "    .dataframe tbody tr th:only-of-type {\n",
       "        vertical-align: middle;\n",
       "    }\n",
       "\n",
       "    .dataframe tbody tr th {\n",
       "        vertical-align: top;\n",
       "    }\n",
       "\n",
       "    .dataframe thead th {\n",
       "        text-align: right;\n",
       "    }\n",
       "</style>\n",
       "<table border=\"1\" class=\"dataframe\">\n",
       "  <thead>\n",
       "    <tr style=\"text-align: right;\">\n",
       "      <th></th>\n",
       "      <th>key</th>\n",
       "      <th>word</th>\n",
       "    </tr>\n",
       "  </thead>\n",
       "  <tbody>\n",
       "    <tr>\n",
       "      <td>1</td>\n",
       "      <td>인테리어</td>\n",
       "      <td>[인테리어거실등, 17평아파트, 거실가구, 이필모신혼집, 방문리폼, 주택리모델링, ...</td>\n",
       "    </tr>\n",
       "    <tr>\n",
       "      <td>2</td>\n",
       "      <td>영업</td>\n",
       "      <td>[ga대리점, 한국세일즈성공학협회, 법인영업, 영업이란, 경영컨설팅, 영업 직무, ...</td>\n",
       "    </tr>\n",
       "    <tr>\n",
       "      <td>4</td>\n",
       "      <td>상계</td>\n",
       "      <td>[상계처리, 상계 뜻, 상계동, 상계하다, 상계역, 상계금액]</td>\n",
       "    </tr>\n",
       "    <tr>\n",
       "      <td>5</td>\n",
       "      <td>주주</td>\n",
       "      <td>[쥬쥬, 주주 뜻, 주주총회]</td>\n",
       "    </tr>\n",
       "    <tr>\n",
       "      <td>6</td>\n",
       "      <td>설비</td>\n",
       "      <td>[설비 뜻, 설비업체, 소방설비기사, 기계설비, 보일러설비, 시설, 수도설비, 건축설비]</td>\n",
       "    </tr>\n",
       "    <tr>\n",
       "      <td>7</td>\n",
       "      <td>휴게소</td>\n",
       "      <td>[맛집 휴게소, 경부 휴게소 맛집, 고속도로 휴게소 맛집, 휴게소 맛집, 덕평휴게소...</td>\n",
       "    </tr>\n",
       "    <tr>\n",
       "      <td>8</td>\n",
       "      <td>상표권</td>\n",
       "      <td>[상표권 조회, 상표권등록, 상표권 침해, 특허권, 상표권등록방법, 디자인권]</td>\n",
       "    </tr>\n",
       "    <tr>\n",
       "      <td>9</td>\n",
       "      <td>안전점검</td>\n",
       "      <td>NaN</td>\n",
       "    </tr>\n",
       "    <tr>\n",
       "      <td>10</td>\n",
       "      <td>특허권</td>\n",
       "      <td>[실용신안권, 상표권, 특허, 디자인권]</td>\n",
       "    </tr>\n",
       "    <tr>\n",
       "      <td>11</td>\n",
       "      <td>가맹</td>\n",
       "      <td>[직영]</td>\n",
       "    </tr>\n",
       "    <tr>\n",
       "      <td>12</td>\n",
       "      <td>조사</td>\n",
       "      <td>[어미, 체언, 경조사, 조사 예시, 접미사, 조사 종류, 부사, 토씨, 관형사, ...</td>\n",
       "    </tr>\n",
       "    <tr>\n",
       "      <td>14</td>\n",
       "      <td>PC방</td>\n",
       "      <td>[배그pc방, 김성수정신감정, 온라인게임, 피의자김성수, pc방카드결제, 메이플, ...</td>\n",
       "    </tr>\n",
       "    <tr>\n",
       "      <td>15</td>\n",
       "      <td>전속</td>\n",
       "      <td>[전속계약, 전속밀도]</td>\n",
       "    </tr>\n",
       "    <tr>\n",
       "      <td>16</td>\n",
       "      <td>투자</td>\n",
       "      <td>[투자의 기초, 소액투자, 부동산 소액투자, 200억, 투자 영어로, 투기, 주식,...</td>\n",
       "    </tr>\n",
       "  </tbody>\n",
       "</table>\n",
       "</div>"
      ],
      "text/plain": [
       "     key                                               word\n",
       "1   인테리어  [인테리어거실등, 17평아파트, 거실가구, 이필모신혼집, 방문리폼, 주택리모델링, ...\n",
       "2     영업  [ga대리점, 한국세일즈성공학협회, 법인영업, 영업이란, 경영컨설팅, 영업 직무, ...\n",
       "4     상계                 [상계처리, 상계 뜻, 상계동, 상계하다, 상계역, 상계금액]\n",
       "5     주주                                   [쥬쥬, 주주 뜻, 주주총회]\n",
       "6     설비  [설비 뜻, 설비업체, 소방설비기사, 기계설비, 보일러설비, 시설, 수도설비, 건축설비]\n",
       "7    휴게소  [맛집 휴게소, 경부 휴게소 맛집, 고속도로 휴게소 맛집, 휴게소 맛집, 덕평휴게소...\n",
       "8    상표권        [상표권 조회, 상표권등록, 상표권 침해, 특허권, 상표권등록방법, 디자인권]\n",
       "9   안전점검                                                NaN\n",
       "10   특허권                             [실용신안권, 상표권, 특허, 디자인권]\n",
       "11    가맹                                               [직영]\n",
       "12    조사  [어미, 체언, 경조사, 조사 예시, 접미사, 조사 종류, 부사, 토씨, 관형사, ...\n",
       "14   PC방  [배그pc방, 김성수정신감정, 온라인게임, 피의자김성수, pc방카드결제, 메이플, ...\n",
       "15    전속                                       [전속계약, 전속밀도]\n",
       "16    투자  [투자의 기초, 소액투자, 부동산 소액투자, 200억, 투자 영어로, 투기, 주식,..."
      ]
     },
     "execution_count": 31,
     "metadata": {},
     "output_type": "execute_result"
    }
   ],
   "source": [
    "df2.iloc[0:14,:]"
   ]
  },
  {
   "cell_type": "code",
   "execution_count": 39,
   "metadata": {},
   "outputs": [
    {
     "data": {
      "text/plain": [
       "False    126\n",
       "True      37\n",
       "Name: word, dtype: int64"
      ]
     },
     "execution_count": 39,
     "metadata": {},
     "output_type": "execute_result"
    }
   ],
   "source": [
    "df2['word'].isna().value_counts()"
   ]
  },
  {
   "cell_type": "code",
   "execution_count": 41,
   "metadata": {},
   "outputs": [
    {
     "data": {
      "text/plain": [
       "Int64Index([  1,   2,   4,   5,   6,   7,   8,   9,  10,  11,\n",
       "            ...\n",
       "            179, 180, 182, 183, 184, 188, 189, 190, 192, 193],\n",
       "           dtype='int64', length=163)"
      ]
     },
     "execution_count": 41,
     "metadata": {},
     "output_type": "execute_result"
    }
   ],
   "source": [
    "for i in df2.index:\n",
    "    "
   ]
  },
  {
   "cell_type": "code",
   "execution_count": 53,
   "metadata": {},
   "outputs": [
    {
     "data": {
      "text/plain": [
       "['상계처리', '상계 뜻', '상계동', '상계하다', '상계역', '상계금액']"
      ]
     },
     "execution_count": 53,
     "metadata": {},
     "output_type": "execute_result"
    }
   ],
   "source": [
    "df2.loc[4,\"word\"]"
   ]
  },
  {
   "cell_type": "code",
   "execution_count": 59,
   "metadata": {},
   "outputs": [
    {
     "data": {
      "text/plain": [
       "'상계'"
      ]
     },
     "execution_count": 59,
     "metadata": {},
     "output_type": "execute_result"
    }
   ],
   "source": [
    "df2.loc[4,\"key\"]"
   ]
  }
 ],
 "metadata": {
  "kernelspec": {
   "display_name": "Python 3",
   "language": "python",
   "name": "python3"
  },
  "language_info": {
   "codemirror_mode": {
    "name": "ipython",
    "version": 3
   },
   "file_extension": ".py",
   "mimetype": "text/x-python",
   "name": "python",
   "nbconvert_exporter": "python",
   "pygments_lexer": "ipython3",
   "version": "3.7.4"
  }
 },
 "nbformat": 4,
 "nbformat_minor": 2
}
